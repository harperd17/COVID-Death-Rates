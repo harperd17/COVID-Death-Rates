{
 "cells": [
  {
   "cell_type": "markdown",
   "metadata": {},
   "source": [
    "# Data Cleaning Notebook"
   ]
  },
  {
   "cell_type": "markdown",
   "metadata": {},
   "source": [
    "This data set came from a Mexican Government [website](https://www.gob.mx/salud/documentos/datos-abiertos-152127). I found a link to this dataset in a [kaggle](https://www.kaggle.com/tanmoyx/covid19-patient-precondition-dataset) project that somebody has done. I thought that finding COVID data would be easier than this, but it turns out that HIPPA laws do not allow data on the individual patient level to be made available to the public even if their names are left out. Therefore, only summary level data sets (like by county, or by age group) are able to be viewed by the public. This data set from the Mexican Government is at the individual patient level and doesn't provide any patient identification information."
   ]
  },
  {
   "cell_type": "code",
   "execution_count": 50,
   "metadata": {},
   "outputs": [],
   "source": [
    "import pandas as pd\n",
    "import json\n",
    "import numpy as np\n",
    "import matplotlib.pyplot as plt\n",
    "import utils"
   ]
  },
  {
   "cell_type": "code",
   "execution_count": 7,
   "metadata": {},
   "outputs": [
    {
     "name": "stdout",
     "output_type": "stream",
     "text": [
      "C:\\Users\\david\\Desktop\\UMBC\\DATA602\\Projects\\Project_1\n"
     ]
    }
   ],
   "source": [
    "#cd .."
   ]
  },
  {
   "cell_type": "code",
   "execution_count": 2,
   "metadata": {},
   "outputs": [],
   "source": [
    "#import the data set\n",
    "covid_data = pd.read_csv('Data/201001COVID19MEXICO.csv')"
   ]
  },
  {
   "cell_type": "markdown",
   "metadata": {},
   "source": [
    "The original data set has 1,048,575 observations and 35 features. Also the column names are all in Spanish."
   ]
  },
  {
   "cell_type": "markdown",
   "metadata": {},
   "source": [
    "The kaggle project author has done translations of the feature descriptions so I will first create a dictionary containing all column names with the key being the Spanish, and the value being the English translation. Then I am going to change the column names to the English translations."
   ]
  },
  {
   "cell_type": "code",
   "execution_count": 3,
   "metadata": {},
   "outputs": [],
   "source": [
    "translation_dict = {\n",
    "    'FECHA_ACTUALIZACION': 'Update Date',\n",
    "    'ID_REGISTRO': 'Record ID',\n",
    "    'ORIGEN':'Origin',\n",
    "    'SECTOR': 'Sector',\n",
    "    'ENTIDAD_UM':'Entity Location',\n",
    "    'SEXO':'Sex',\n",
    "    'ENTIDAD_NAC':'Entity of Birth',\n",
    "    'ENTIDAD_RES':'Entity of Residence',\n",
    "    'MUNICIPIO_RES':'Residence Municipality',\n",
    "    'TIPO_PACIENTE':'Type of Care',\n",
    "    'FECHA_INGRESO':'Admission Date',\n",
    "    'FECHA_SINTOMAS':'Sympton Onset',\n",
    "    'FECHA_DEF':'Date of Death',\n",
    "    'INTUBADO':'Intubation Required',\n",
    "    'NEUMONIA':'Pneumonia',\n",
    "    'EDAD':'Age',\n",
    "    'NACIONALIDAD':'Nationality',\n",
    "    'EMBARAZO':'Pregnant',\n",
    "    'HABLA_LENGUA_INDIG':'Speak Indigenous',\n",
    "    'DIABETES':'Diabetes',\n",
    "    'EPOC':'COPD Diagnosis',\n",
    "    'ASMA':'Asthma',\n",
    "    'INMUSUPR':'Immunosuppression',\n",
    "    'HIPERTENSION':'Hypertension',\n",
    "    'OTRA_COM':'Other Diseases',\n",
    "    'CARDIOVASCULAR':'Cardiovascular Disease',\n",
    "    'OBESIDAD':'Obesity',\n",
    "    'RENAL_CRONICA':'Kidney Failure',\n",
    "    'TABAQUISMO':'Smoker',\n",
    "    'OTRO_CASO':'Contact',\n",
    "    'RESULTADO':'Test Result',\n",
    "    'MIGRANTE':'Migrant',\n",
    "    'PAIS_NACIONALIDAD':'Prior Nationality',\n",
    "    'PAIS_ORIGEN':'Prior Origin',\n",
    "    'UCI':'Intensive Care Needed'\n",
    "}"
   ]
  },
  {
   "cell_type": "code",
   "execution_count": 4,
   "metadata": {},
   "outputs": [],
   "source": [
    "#now I'm going to change the names to be in English using the dictionary above\n",
    "english_names = [translation_dict[x] for x in covid_data.columns]\n",
    "covid_data.columns = english_names"
   ]
  },
  {
   "cell_type": "markdown",
   "metadata": {},
   "source": [
    "# Value Mapping <br>\n",
    "Most data fields in this data set have numeric representations for non-numeric values. For example, 1 refers to 'Ambulatory' in the 'Type of Care' field."
   ]
  },
  {
   "cell_type": "markdown",
   "metadata": {},
   "source": [
    "Below are dictionaries I have created using the 'Catalogos_0412.csv' file provided with the Covid data."
   ]
  },
  {
   "cell_type": "markdown",
   "metadata": {},
   "source": [
    "There are 36 entities, each associated with a number between 1 and 36. There are also values of 97,98, and 99 for 'Not Applicable', 'Ignored', and 'Not Specified', respectively."
   ]
  },
  {
   "cell_type": "code",
   "execution_count": 5,
   "metadata": {},
   "outputs": [],
   "source": [
    "#creating the number value array\n",
    "entity_numbers1 = np.arange(1,37,1)\n",
    "#I need to loop through this to cast them from int32 to int for compatability with writing to json file.\n",
    "entity_numbers = []\n",
    "for i in entity_numbers1:\n",
    "    entity_numbers.append(int(i))\n",
    "entity_numbers.append(97)\n",
    "entity_numbers.append(98)\n",
    "entity_numbers.append(99)\n",
    "\n",
    "#now I need to create the list of the entity names\n",
    "entity_names = ['AGUASCALIENTES','BAJA CALIFORNIA','BAJA CALIFORNIA SUR','CAMPECHE','COAHUILA DE ZARAGOZA','COLIMA','CHIAPAS',\n",
    "'CHIHUAHUA','CIUDAD DE MÉXICO','DURANGO','GUANAJUATO','GUERRERO','HIDALGO','JALISCO','MÉXICO','MICHOACÁN DE OCAMPO',\n",
    "'MORELOS','NAYARIT','NUEVO LEÓN','OAXACA','PUEBLA','QUERÉTARO','QUINTANA ROO','SAN LUIS POTOSÍ','SINALOA','SONORA',\n",
    "'TABASCO','TAMAULIPAS','TLAXCALA','VERACRUZ DE IGNACIO DE LA LLAVE','YUCATÁN','ZACATECAS','ESTADOS UNIDOS MEXICANOS',\n",
    "'Not Applicable','Ignored','Not Specified']\n",
    "\n",
    "#creating the dictionary\n",
    "entity_dict = dict(zip(entity_numbers,entity_names))"
   ]
  },
  {
   "cell_type": "markdown",
   "metadata": {},
   "source": [
    "There are over 2,000 municipalities, so instead of manually typing them out, I'm importing the values from a csv file I created from copying and pasting the table of mappings from the main catalogueing file."
   ]
  },
  {
   "cell_type": "code",
   "execution_count": 6,
   "metadata": {},
   "outputs": [],
   "source": [
    "municipality_mapping = pd.read_csv('Data/Municipality_mapping.csv')\n",
    "#the same number can be assigned to different municipalities, but each number is unique to the municipalities in each state\n",
    "#so I am making a municipality_name list that will have the combination of the municipality number and entity number\n",
    "municipality_combined_names = []\n",
    "for i in range(len(municipality_mapping['CLAVE_MUNICIPIO'])):\n",
    "    municipality_combined_names.append(str(municipality_mapping['CLAVE_MUNICIPIO'][i])+'_'+str(municipality_mapping['CLAVE_ENTIDAD'][i]))\n",
    "municipality_dict = dict(zip(municipality_combined_names,municipality_mapping['MUNICIPIO']))"
   ]
  },
  {
   "cell_type": "code",
   "execution_count": 7,
   "metadata": {},
   "outputs": [],
   "source": [
    "#all remaining dictionaries are simple to create\n",
    "nationality_dict = dict(zip([1,2,99],['Mexican','Foreign','Not Specified']))\n",
    "origin_dict = dict(zip(['USMER','FUERA DE USMER','NO ESPECIFICADO'],['Usmer','Not Usmer','Not Specified']))\n",
    "yes_no_dict = dict(zip([1,2,97,98,99],['Yes','No','Not Applicable','Ignored','Not Specified']))"
   ]
  },
  {
   "cell_type": "code",
   "execution_count": 8,
   "metadata": {},
   "outputs": [],
   "source": [
    "value_mapping_dict={\n",
    "    'Update Date':{},\n",
    "    'Record ID':{},\n",
    "    'Origin':origin_dict,\n",
    "    'Sector':dict(zip([1,2,3,4,5,6,7,8,9,10,11,12,13,99],['Red Cross','DIF','State','IMSS','IMSS-Wellness','ISSSTE','Municipal','PEMEX','Private','SEDENA','SEMAR','SSA','Academic','Not Specified'])),\n",
    "    'Entity Location':entity_dict,\n",
    "    'Sex':dict(zip([1,2,99],['Female','Male','Not Specified'])),\n",
    "    'Entity of Birth':entity_dict,\n",
    "    'Entity of Residence':entity_dict,\n",
    "    'Residence Municipality':municipality_dict,\n",
    "    'Type of Care':dict(zip([1,2,99],['Ambulatory','Hospitalized','Not Specified'])),\n",
    "    'Admission Date':{},\n",
    "    'Sympton Onset':{},\n",
    "    'Date of Death':{},\n",
    "    'Intubation Required':yes_no_dict,\n",
    "    'Pneumonia':yes_no_dict,\n",
    "    'Age':{},\n",
    "    'Nationality':nationality_dict,\n",
    "    'Pregnant':yes_no_dict,\n",
    "    'Speak Indigenous':yes_no_dict,\n",
    "    'Diabetes':yes_no_dict,\n",
    "    'COPD Diagnosis':yes_no_dict,\n",
    "    'Asthma':yes_no_dict,\n",
    "    'Immunosuppression':yes_no_dict,\n",
    "    'Hypertension':yes_no_dict,\n",
    "    'Other Diseases':yes_no_dict,\n",
    "    'Cardiovascular Disease':yes_no_dict,\n",
    "    'Obesity':yes_no_dict,\n",
    "    'Kidney Failure':yes_no_dict,\n",
    "    'Smoker':yes_no_dict,\n",
    "    'Contact':yes_no_dict,\n",
    "    'Test Result':dict(zip([1,2,3],['Positive','Negative','Pending'])),\n",
    "    'Migrant':yes_no_dict,\n",
    "    'Prior Nationality':{},\n",
    "    'Prior Origin':{},\n",
    "    'Intensive Care Needed':yes_no_dict\n",
    "}"
   ]
  },
  {
   "cell_type": "code",
   "execution_count": 9,
   "metadata": {},
   "outputs": [],
   "source": [
    "#now that the mappings are all created, I would like to write them to a json file\n",
    "with open('Data/data_mapping_raw_data.json', 'w') as json_file:\n",
    "    json.dump(value_mapping_dict, json_file)"
   ]
  },
  {
   "cell_type": "markdown",
   "metadata": {},
   "source": [
    "# Cleaning the Data"
   ]
  },
  {
   "cell_type": "markdown",
   "metadata": {},
   "source": [
    "First, I am only interested in observations that actually tested positive for Covid19, so I will drop all rows where 'Test Result' is 2 (Negative) or 3 (Pending)."
   ]
  },
  {
   "cell_type": "code",
   "execution_count": 10,
   "metadata": {},
   "outputs": [],
   "source": [
    "indeces_to_delete = []\n",
    "for i in range(len(covid_data['Test Result'])):\n",
    "    if covid_data['Test Result'][i] == 3:\n",
    "        indeces_to_delete.append(i)\n",
    "    elif covid_data['Test Result'][i] == 2:\n",
    "        indeces_to_delete.append(i)\n",
    "#now to drop the rows that didn't test positive for Covid, and then reset the index\n",
    "covid_data = covid_data.drop(indeces_to_delete)\n",
    "covid_data = covid_data.reset_index(drop=True)"
   ]
  },
  {
   "cell_type": "markdown",
   "metadata": {},
   "source": [
    "I found that the mapping provided with the data set does not completely identify all combinations of municpalities within entity. Because of this, as well as there being over 2,000 municipalities, I have decided to get rid of this feature. I am confident that whatever information is lost from this deletion will be replaced from the 'Entity of Residence' feature which shows which state the patient lives in."
   ]
  },
  {
   "cell_type": "code",
   "execution_count": 11,
   "metadata": {},
   "outputs": [],
   "source": [
    "del covid_data['Residence Municipality']"
   ]
  },
  {
   "cell_type": "markdown",
   "metadata": {},
   "source": [
    "At this point, there are ALOT of columns. I've gone through these columns and evaluated the quality of the data in them. By this, I mean I looked at how complete each column is in terms of how many N/A values are present.<br>\n",
    "a. \"Prior Origin\" and \"Migrant\" features have over 700,000 N/A values each. After step 1 above, there are only 703,973 observations. Since 700,000 is over 90% of the observations, these two columns will be delete. <br>\n",
    "b. \"Contact\" feature has over 1/7 of it's observations being N/A. This feature seems more helpful for a tracing project, and whether or not the person had come in contact with a COVID patient doesn't change the fact they have COVID. This feature will be deleted too. <br>\n",
    "c. \"Speak Indegenous\" feature has over 22,000 N/A values. Also, this feature seems pretty useless because a virus doesn't care what language you speak. This feature will be deleted too.<br>"
   ]
  },
  {
   "cell_type": "code",
   "execution_count": 12,
   "metadata": {},
   "outputs": [],
   "source": [
    "del covid_data['Migrant']\n",
    "del covid_data['Prior Origin']\n",
    "del covid_data['Contact']\n",
    "del covid_data['Speak Indigenous']"
   ]
  },
  {
   "cell_type": "markdown",
   "metadata": {},
   "source": [
    "Then there are some more complicated features: <br>\n",
    "\"Entity of Birth\", \"Diabetes\", \"COPD Diagnosis\", \"Asthma\", \"Immunosuppression\", \"Hypertension\", \"Other Diseases\", \"Cardiovascular Disease\", \"Obesity\", \"Kidney Failure\", and \"Smoker\" features all have roughly 1,900-2,100 N/A values each. After finding out what the overlap is, there is a total of 7,185 rows where atleast one of the features are N/A. This is less than 1% of the total number of observations. Therefore, I think it should be ok to simply delete the observations where one or more of these features has N/A. Also, when considerig this, I saw that 6,008 of the observations impacted by this deletion are patient that didn't die. This shows that 83.6% of the patients deleted here didn't die. When looking at the data as a whole, 89.4% of the observations didn't die. Since 83.6% is relatively close to 89.4%, I don't think that deleting these 7,185 rows is deleting observations that offer something special to the data. Therefore, I will delete these occurences. <br>"
   ]
  },
  {
   "cell_type": "code",
   "execution_count": 13,
   "metadata": {},
   "outputs": [],
   "source": [
    "vars_of_interest = [\"Entity of Birth\", \"Diabetes\", \"COPD Diagnosis\", \"Asthma\", \"Immunosuppression\", \"Hypertension\", \n",
    "                    \"Other Diseases\", \"Cardiovascular Disease\", \"Obesity\", \"Kidney Failure\", \"Smoker\"]\n",
    "row_deletions = []\n",
    "exclusion_values = [97,98,99]\n",
    "for i in range(len(covid_data['Record ID'])):\n",
    "    delete_row = False\n",
    "    for var in vars_of_interest:\n",
    "        if covid_data[var][i] in exclusion_values:\n",
    "            delete_row = True\n",
    "    if delete_row:\n",
    "        row_deletions.append(i)"
   ]
  },
  {
   "cell_type": "code",
   "execution_count": 14,
   "metadata": {},
   "outputs": [],
   "source": [
    "covid_data = covid_data.drop(row_deletions)\n",
    "covid_data = covid_data.reset_index(drop=True)"
   ]
  },
  {
   "cell_type": "markdown",
   "metadata": {},
   "source": [
    "After performing the above actions, there are 7 N/A values in the \"Pneumonia\" feature. 7 observations is incredibly small for this data set, so I will delete these observations."
   ]
  },
  {
   "cell_type": "code",
   "execution_count": 15,
   "metadata": {},
   "outputs": [],
   "source": [
    "pneumonia_delete_rows = list(covid_data[covid_data['Pneumonia']==99].index)\n",
    "\n",
    "covid_data = covid_data.drop(pneumonia_delete_rows)\n",
    "covid_data = covid_data.reset_index(drop=True)"
   ]
  },
  {
   "cell_type": "markdown",
   "metadata": {},
   "source": [
    "\"Pregnant\" feature has 368,300 N/A values. Many of these are from patients being Male, which makes sense because men can't get pregnant. For these 365,860 observations that are Male, I will change the Pregnant feature to equal 2. For the remaining 2,440 N/A values, I will assign a 2 (for not pregnant) since out of the 335,673 women (not including the N/As), only 5,201 are pregnant. This means that for each N/A value, there is only a 1.55% chance that observation is pregnant. My approach is a \"Majority takes all\" approach of solving this N/A problem."
   ]
  },
  {
   "cell_type": "code",
   "execution_count": 16,
   "metadata": {},
   "outputs": [],
   "source": [
    "new_pregnant_column = []\n",
    "for i in range(len(covid_data['Record ID'])):\n",
    "    if covid_data['Pregnant'][i] in [97,98]:\n",
    "        new_pregnant_column.append(2)\n",
    "    else:\n",
    "        new_pregnant_column.append(covid_data['Pregnant'][i])\n",
    "covid_data['Pregnant'] = new_pregnant_column"
   ]
  },
  {
   "cell_type": "markdown",
   "metadata": {},
   "source": [
    "The \"ICU\" and \"Intubation\" features have a lot of N/A values (over 75%). These features seems very important because they mean the patient is getting hit hard by the virus. Therefore, I'd like to do whatever possible to keep these in the data set. Only 2% of the observations required ICU and 4% required Intubation. The remaining observations are either recorded as either not needing it, or have a value corresponding to \"Not Applicable\", and small portion (~2/100 of a percent) have \"Not Specified\". Since I have a bias of knowing that most people do not require extreme measures such as intubation or ICU when they get COVID, I am guessing that the reason for so many \"Not Applicable\" values is that when someone comes to a hospital, they may not need ICU or Intubation right away, and maybe the paperwork records \"Not Applicable\" for these fields, and if they later need it, it may not get updated in the paperwork. This is only a guess though. I am going to replace all of the \"Not Applicable\" and \"No Specified\" values to \"No\" (2). "
   ]
  },
  {
   "cell_type": "code",
   "execution_count": 17,
   "metadata": {},
   "outputs": [],
   "source": [
    "ICU_replacement = []\n",
    "Intubation_replacement = []\n",
    "for i in range(len(covid_data['Record ID'])):\n",
    "    if covid_data['Intensive Care Needed'][i] in [97,99]:\n",
    "        ICU_replacement.append(2)\n",
    "    else:\n",
    "        ICU_replacement.append(covid_data['Intensive Care Needed'][i])\n",
    "    if covid_data['Intubation Required'][i] in [97,99]:\n",
    "        Intubation_replacement.append(2)\n",
    "    else:\n",
    "        Intubation_replacement.append(covid_data['Intubation Required'][i])"
   ]
  },
  {
   "cell_type": "code",
   "execution_count": 18,
   "metadata": {},
   "outputs": [],
   "source": [
    "covid_data['Intensive Care Needed'] = ICU_replacement\n",
    "covid_data['Intubation Required'] = Intubation_replacement"
   ]
  },
  {
   "cell_type": "markdown",
   "metadata": {},
   "source": [
    "Whether or not a person died can be gathered from the 'Date of Death' variable. If the value is a date, then unfortunately that person died. However, if the value is '9999-99-99', then the person did not die. With this information, I'm going to create a binary variable called 'Died' which shows whether a patient died (1) or not (0). While I am looping through the data to create this new variable, I will overwrite the 'Date of Death' variable so that '9999-99-99' is recorded as np.nan."
   ]
  },
  {
   "cell_type": "code",
   "execution_count": 19,
   "metadata": {},
   "outputs": [],
   "source": [
    "died = []\n",
    "death_date = []\n",
    "for i in range(len(covid_data['Date of Death'])):\n",
    "    if str(covid_data['Date of Death'][i]) == '9999-99-99':\n",
    "        died.append(0)\n",
    "        death_date.append(np.nan)\n",
    "    else:\n",
    "        died.append(1)\n",
    "        death_date.append(covid_data['Date of Death'][i])\n",
    "covid_data['Died'] = died\n",
    "covid_data['Date of Death'] = death_date"
   ]
  },
  {
   "cell_type": "code",
   "execution_count": 20,
   "metadata": {},
   "outputs": [],
   "source": [
    "del died\n",
    "del death_date"
   ]
  },
  {
   "cell_type": "markdown",
   "metadata": {},
   "source": [
    "I am going to change all of the yes or no variables so that 0 corresponds to No, 1 corresponds to Yes."
   ]
  },
  {
   "cell_type": "code",
   "execution_count": 21,
   "metadata": {},
   "outputs": [
    {
     "name": "stdout",
     "output_type": "stream",
     "text": [
      "Intubation Required\n",
      "Pneumonia\n",
      "Pregnant\n",
      "Diabetes\n",
      "COPD Diagnosis\n",
      "Asthma\n",
      "Immunosuppression\n",
      "Hypertension\n",
      "Other Diseases\n",
      "Cardiovascular Disease\n",
      "Obesity\n",
      "Kidney Failure\n",
      "Smoker\n",
      "Intensive Care Needed\n"
     ]
    }
   ],
   "source": [
    "yes_no_variables = ['Intubation Required','Pneumonia','Pregnant','Diabetes','COPD Diagnosis',\n",
    "'Asthma','Immunosuppression','Hypertension','Other Diseases','Cardiovascular Disease','Obesity','Kidney Failure',\n",
    "'Smoker','Intensive Care Needed']\n",
    "\n",
    "all_replacements = []\n",
    "for var in yes_no_variables:\n",
    "    #I've included this print statement so I can gauge how long is left for running this cell\n",
    "    print(var)\n",
    "    replacement_values = []\n",
    "    for i in range(len(covid_data[var])):\n",
    "        if covid_data[var][i] == 2:\n",
    "            replacement_values.append(0)\n",
    "        elif covid_data[var][i] == 1:\n",
    "            replacement_values.append(1)\n",
    "        else:\n",
    "            replacement_values.append(np.nan)\n",
    "    all_replacements.append(replacement_values)"
   ]
  },
  {
   "cell_type": "code",
   "execution_count": 22,
   "metadata": {},
   "outputs": [],
   "source": [
    "#now I will write these replacements into the dataframe to overwrite the original codings\n",
    "for i in range(len(yes_no_variables)):\n",
    "    covid_data[yes_no_variables[i]] = all_replacements[i]\n",
    "del all_replacements\n",
    "del replacement_values"
   ]
  },
  {
   "cell_type": "markdown",
   "metadata": {},
   "source": [
    "Start Encoding the Qualitative variables into separate binary variables"
   ]
  },
  {
   "cell_type": "markdown",
   "metadata": {},
   "source": [
    "##### Encoding the Sector variable"
   ]
  },
  {
   "cell_type": "code",
   "execution_count": 51,
   "metadata": {},
   "outputs": [],
   "source": [
    "exclusion_values = [97,98,99]\n",
    "sector_encoding = utils.encodeQualitative(covid_data['Sector'],'Sector',exclusion_values)\n",
    "covid_data = pd.concat([covid_data,sector_encoding],axis=1)\n",
    "del sector_encoding"
   ]
  },
  {
   "cell_type": "markdown",
   "metadata": {},
   "source": [
    "##### Encoding the Sex variable"
   ]
  },
  {
   "cell_type": "code",
   "execution_count": 25,
   "metadata": {},
   "outputs": [],
   "source": [
    "sex_encoding = utils.encodeQualitative(covid_data['Sex'],'Sex',exclusion_values)\n",
    "covid_data = pd.concat([covid_data,sex_encoding],axis=1)\n",
    "del sex_encoding"
   ]
  },
  {
   "cell_type": "markdown",
   "metadata": {},
   "source": [
    "##### Encoding the Type of Care variable"
   ]
  },
  {
   "cell_type": "code",
   "execution_count": 26,
   "metadata": {},
   "outputs": [],
   "source": [
    "type_of_care_encoding = utils.encodeQualitative(covid_data['Type of Care'],'Care',exclusion_values)\n",
    "covid_data = pd.concat([covid_data,type_of_care_encoding],axis=1)\n",
    "del type_of_care_encoding"
   ]
  },
  {
   "cell_type": "markdown",
   "metadata": {},
   "source": [
    "<b>Nationality variable: </b>I was going to encode this feature, but found that while handling N/As above, all nationalities other than Mexico were deleted. This makes sense because if someone was from another country, it is more likely that their underlying health history may not be available, or may be incomplete, which is why these observations contained so many N/A values. Therefore, I will delete the Nationality feature since at this point it offers no information."
   ]
  },
  {
   "cell_type": "code",
   "execution_count": 27,
   "metadata": {},
   "outputs": [],
   "source": [
    "del covid_data['Nationality']"
   ]
  },
  {
   "cell_type": "markdown",
   "metadata": {},
   "source": [
    "##### Encoding the Origin variable"
   ]
  },
  {
   "cell_type": "code",
   "execution_count": 28,
   "metadata": {},
   "outputs": [],
   "source": [
    "origin_encoding = utils.encodeQualitative(covid_data['Origin'],'Origin',exclusion_values)\n",
    "covid_data = pd.concat([covid_data,origin_encoding],axis=1)\n",
    "del origin_encoding"
   ]
  },
  {
   "cell_type": "markdown",
   "metadata": {},
   "source": [
    "##### The features involving Entity have way too many unique values to even consider creating individual encodings for them. Therefore, I will define super groups for each of these variables and then encode those."
   ]
  },
  {
   "cell_type": "markdown",
   "metadata": {},
   "source": [
    "##### 1. Entity variables"
   ]
  },
  {
   "cell_type": "code",
   "execution_count": 29,
   "metadata": {},
   "outputs": [],
   "source": [
    "#I will find the unique values for an entity and then visualize how the death rate and rate of intensive care (ICU)\n",
    "#vary across the entities in order to define the super groups.\n",
    "#First I want to create a dictionary of the death rate and ICU rate for each entity\n",
    "unique_entities = np.unique(covid_data['Entity Location'])\n",
    "death_entity_dict1 = {key: None for key in unique_entities}\n",
    "death_entity_dict2 = {key: None for key in unique_entities}\n",
    "death_entity_dict3 = {key: None for key in unique_entities}\n",
    "\n",
    "ICU_entity_dict1 = {key: None for key in unique_entities}\n",
    "ICU_entity_dict2 = {key: None for key in unique_entities}\n",
    "ICU_entity_dict3 = {key: None for key in unique_entities}\n",
    "\n",
    "for entity in unique_entities:\n",
    "    entity_subset1 = covid_data[covid_data['Entity Location']==entity]\n",
    "    entity_subset2 = covid_data[covid_data['Entity of Birth']==entity]\n",
    "    entity_subset3 = covid_data[covid_data['Entity of Residence']==entity]\n",
    "    \n",
    "    death_entity_dict1[entity] = sum(entity_subset1['Died'])/len(entity_subset1['Died'])\n",
    "    death_entity_dict2[entity] = sum(entity_subset2['Died'])/len(entity_subset2['Died'])\n",
    "    death_entity_dict3[entity] = sum(entity_subset3['Died'])/len(entity_subset3['Died'])\n",
    "    \n",
    "    ICU_entity_dict1[entity] = sum(entity_subset1['Intensive Care Needed'])/len(entity_subset1['Intensive Care Needed'])\n",
    "    ICU_entity_dict2[entity] = sum(entity_subset2['Intensive Care Needed'])/len(entity_subset2['Intensive Care Needed'])\n",
    "    ICU_entity_dict3[entity] = sum(entity_subset3['Intensive Care Needed'])/len(entity_subset3['Intensive Care Needed'])"
   ]
  },
  {
   "cell_type": "code",
   "execution_count": 30,
   "metadata": {},
   "outputs": [],
   "source": [
    "#I want to sort these dictionaries in terms of their rates to make it easier to create groupings from the bar chart\n",
    "sorted_entity_death_dict1 = {k: v for k, v in sorted(death_entity_dict1.items(), key=lambda item: item[1])}\n",
    "sorted_entity_death_dict2 = {k: v for k, v in sorted(death_entity_dict2.items(), key=lambda item: item[1])}\n",
    "sorted_entity_death_dict3 = {k: v for k, v in sorted(death_entity_dict3.items(), key=lambda item: item[1])}\n",
    "\n",
    "sorted_entity_ICU_dict1 = {k: v for k, v in sorted(ICU_entity_dict1.items(), key=lambda item: item[1])}\n",
    "sorted_entity_ICU_dict2 = {k: v for k, v in sorted(ICU_entity_dict2.items(), key=lambda item: item[1])}\n",
    "sorted_entity_ICU_dict3 = {k: v for k, v in sorted(ICU_entity_dict3.items(), key=lambda item: item[1])}"
   ]
  },
  {
   "cell_type": "code",
   "execution_count": 31,
   "metadata": {},
   "outputs": [],
   "source": [
    "#I will use the death rate ordering as the primary bar ordering on the bar chart since this variable seems to be more reliable (has less N/As)\n",
    "#Since the ordering by death rate and ICU rate are likely not the same, I need to create a list of the ICU rates in the ordering of the death rates\n",
    "#Also, for comparability, I want to also order the bars for all three entity related variables the same, and since the ordering of entity\n",
    "#by death rate may not be the same across all three entity variables, I need to also create a list of the Death rates in the ordering of the\n",
    "#entities by death rate for entity location\n",
    "ICU_entity_fill_ins1 = []\n",
    "ICU_entity_fill_ins2 = []\n",
    "ICU_entity_fill_ins3 = []\n",
    "\n",
    "death_entity_fill_ins2 = []\n",
    "death_entity_fill_ins3 = []\n",
    "\n",
    "for k in list(sorted_entity_death_dict1.keys()):\n",
    "    ICU_entity_fill_ins1.append(ICU_entity_dict1[k])\n",
    "    ICU_entity_fill_ins2.append(ICU_entity_dict2[k])\n",
    "    ICU_entity_fill_ins3.append(ICU_entity_dict3[k])\n",
    "    \n",
    "    death_entity_fill_ins2.append(death_entity_dict2[k])\n",
    "    death_entity_fill_ins3.append(death_entity_dict3[k])"
   ]
  },
  {
   "cell_type": "code",
   "execution_count": 32,
   "metadata": {},
   "outputs": [
    {
     "data": {
      "image/png": "[encoded data removed]",
      "text/plain": [
       "<Figure size 432x288 with 1 Axes>"
      ]
     },
     "metadata": {
      "needs_background": "light"
     },
     "output_type": "display_data"
    }
   ],
   "source": [
    "fig = plt.figure()\n",
    "width = 0.4\n",
    "ax = fig.add_axes([0,0,1,1])\n",
    "ax.bar(np.arange(0,len(list(sorted_entity_death_dict1.keys()))),list(sorted_entity_death_dict1.values()),width=width,color='green')\n",
    "ax.bar(np.arange(0,len(list(sorted_entity_death_dict1.keys())))+width,ICU_entity_fill_ins1,width=width,color='blue')\n",
    "ax.legend(('Death Rates','ICU Rates'))\n",
    "plt.xticks(ticks=np.arange(0,len(list(sorted_entity_death_dict1.keys()))),labels=list(sorted_entity_death_dict1.keys()))\n",
    "plt.title('Rates by Entity Location')\n",
    "plt.xlabel('Entity')\n",
    "plt.ylabel('Rate')\n",
    "#plt.savefig('EDA/value_state.png',bbox_inches='tight')\n",
    "plt.show()"
   ]
  },
  {
   "cell_type": "code",
   "execution_count": 33,
   "metadata": {},
   "outputs": [
    {
     "data": {
      "image/png": "[encoded data removed]",
      "text/plain": [
       "<Figure size 432x288 with 1 Axes>"
      ]
     },
     "metadata": {
      "needs_background": "light"
     },
     "output_type": "display_data"
    }
   ],
   "source": [
    "fig = plt.figure()\n",
    "width = 0.4\n",
    "ax = fig.add_axes([0,0,1,1])\n",
    "ax.bar(np.arange(0,len(list(sorted_entity_death_dict1.keys()))),death_entity_fill_ins2,width=width,color='green')\n",
    "ax.bar(np.arange(0,len(list(sorted_entity_death_dict1.keys())))+width,ICU_entity_fill_ins2,width=width,color='blue')\n",
    "ax.legend(('Death Rates','ICU Rates'))\n",
    "plt.xticks(ticks=np.arange(0,len(list(sorted_entity_death_dict1.keys()))),labels=list(sorted_entity_death_dict1.keys()))\n",
    "plt.title('Rates by Entity of Birth')\n",
    "plt.xlabel('Entity')\n",
    "plt.ylabel('Rate')\n",
    "#plt.savefig('EDA/value_state.png',bbox_inches='tight')\n",
    "plt.show()"
   ]
  },
  {
   "cell_type": "code",
   "execution_count": 34,
   "metadata": {},
   "outputs": [
    {
     "data": {
      "image/png": "[encoded data removed]",
      "text/plain": [
       "<Figure size 432x288 with 1 Axes>"
      ]
     },
     "metadata": {
      "needs_background": "light"
     },
     "output_type": "display_data"
    }
   ],
   "source": [
    "fig = plt.figure()\n",
    "width = 0.4\n",
    "ax = fig.add_axes([0,0,1,1])\n",
    "ax.bar(np.arange(0,len(list(sorted_entity_death_dict1.keys()))),death_entity_fill_ins3,width=width,color='green')\n",
    "ax.bar(np.arange(0,len(list(sorted_entity_death_dict1.keys())))+width,ICU_entity_fill_ins3,width=width,color='blue')\n",
    "ax.legend(('Death Rates','ICU Rates'))\n",
    "plt.xticks(ticks=np.arange(0,len(list(sorted_entity_death_dict1.keys()))),labels=list(sorted_entity_death_dict1.keys()))\n",
    "plt.title('Rates by Entity of Residence')\n",
    "plt.xlabel('Entity')\n",
    "plt.ylabel('Rate')\n",
    "#plt.savefig('EDA/value_state.png',bbox_inches='tight')\n",
    "plt.show()"
   ]
  },
  {
   "cell_type": "markdown",
   "metadata": {},
   "source": [
    "The graphs for Entity Location and Entity of Residence both looks very similar. However, the graph for Entity of Birth doesn't look as similar to the other two graphs. Therefore, I will create supergroups for entities to be used in Entity Location and Entity of Residence. Then, I will create a separate supergroup for entities to be used in Entity of Birth."
   ]
  },
  {
   "cell_type": "markdown",
   "metadata": {},
   "source": [
    "##### Entity Super Group for Entity Location and Entity of Residence"
   ]
  },
  {
   "cell_type": "code",
   "execution_count": 35,
   "metadata": {},
   "outputs": [],
   "source": [
    "#This entity_groupings1 dictionary will contain the mapping from entity to supergroup for entity location and entity of residence\n",
    "#I picked 0.09 as the first cutoff because that roughly looks like the cutoff for the lowest third of the data\n",
    "#I picked 0.13 as the second cutoff because that seems like the rough cutoff for the highest third of the data\n",
    "entity_groupings1 = {}\n",
    "for key in list(sorted_entity_death_dict1.keys()):\n",
    "    if sorted_entity_death_dict1[key] < 0.09:\n",
    "        entity_groupings1[int(key)] = 1\n",
    "    elif 0.09 <= sorted_entity_death_dict1[key] <=0.13:\n",
    "        entity_groupings1[int(key)] = 2\n",
    "    else:\n",
    "        entity_groupings1[int(key)] = 3"
   ]
  },
  {
   "cell_type": "code",
   "execution_count": 36,
   "metadata": {},
   "outputs": [
    {
     "name": "stdout",
     "output_type": "stream",
     "text": [
      "Entity Location\n",
      "Entity of Residence\n"
     ]
    }
   ],
   "source": [
    "#now to map these definitions to the dataframe\n",
    "entity_variables = ['Entity Location','Entity of Residence']\n",
    "for var in entity_variables:\n",
    "    print(var)\n",
    "    new_column = []\n",
    "    for i in range(len(covid_data[var])):\n",
    "        current_entity = covid_data[var][i]\n",
    "        if current_entity not in exclusion_values:\n",
    "            new_column.append(entity_groupings1[current_entity])\n",
    "        else:\n",
    "            #I need to make it a 99 because otherwise np.nan will pop up lots of times in the np.unique when doing encoding.\n",
    "            #Having a np.nan as 99 will be easier later than having it as either 97,98,or 99.\n",
    "            new_column.append(99)\n",
    "    covid_data[var+\" Grouped\"] = new_column"
   ]
  },
  {
   "cell_type": "code",
   "execution_count": 37,
   "metadata": {},
   "outputs": [
    {
     "name": "stdout",
     "output_type": "stream",
     "text": [
      "Entity Location\n",
      "Residence\n"
     ]
    }
   ],
   "source": [
    "#now I need to encode these new grouped entity features\n",
    "print('Entity Location')\n",
    "entity_location_encoding = utils.encodeQualitative(covid_data['Entity Location Grouped'],'Entity',[99])\n",
    "covid_data = pd.concat([covid_data,entity_location_encoding],axis=1)\n",
    "\n",
    "print('Residence')\n",
    "entity_of_residence_encoding = utils.encodeQualitative(covid_data['Entity of Residence Grouped'],'Residence',[99])\n",
    "covid_data = pd.concat([covid_data,entity_of_residence_encoding],axis=1)"
   ]
  },
  {
   "cell_type": "code",
   "execution_count": 38,
   "metadata": {},
   "outputs": [],
   "source": [
    "del death_entity_dict1 \n",
    "del death_entity_dict2 \n",
    "del death_entity_dict3 \n",
    "\n",
    "del entity_subset1\n",
    "del entity_subset2\n",
    "del entity_subset3\n",
    "\n",
    "del ICU_entity_dict1 \n",
    "del ICU_entity_dict3 \n",
    "\n",
    "del sorted_entity_death_dict1  \n",
    "del sorted_entity_death_dict3 \n",
    "\n",
    "del sorted_entity_ICU_dict1 \n",
    "del sorted_entity_ICU_dict2 \n",
    "del sorted_entity_ICU_dict3 \n",
    "\n",
    "del ICU_entity_fill_ins1 \n",
    "del ICU_entity_fill_ins2 \n",
    "del ICU_entity_fill_ins3\n",
    "\n",
    "del death_entity_fill_ins2 \n",
    "del death_entity_fill_ins3\n",
    "\n",
    "del new_column\n",
    "\n",
    "del entity_location_encoding\n",
    "\n",
    "del entity_of_residence_encoding"
   ]
  },
  {
   "cell_type": "markdown",
   "metadata": {},
   "source": [
    "##### Entity Supergroup for Entity of Birth"
   ]
  },
  {
   "cell_type": "code",
   "execution_count": 39,
   "metadata": {},
   "outputs": [
    {
     "data": {
      "image/png": "[encoded data removed]",
      "text/plain": [
       "<Figure size 432x288 with 1 Axes>"
      ]
     },
     "metadata": {
      "needs_background": "light"
     },
     "output_type": "display_data"
    }
   ],
   "source": [
    "ICU_entitybirth_fill_ins2 = []\n",
    "for k in list(sorted_entity_death_dict2.keys()):\n",
    "    ICU_entitybirth_fill_ins2.append(ICU_entity_dict2[k])\n",
    "    \n",
    "fig = plt.figure()\n",
    "width = 0.4\n",
    "ax = fig.add_axes([0,0,1,1])\n",
    "ax.bar(np.arange(0,len(list(sorted_entity_death_dict2.keys()))),list(sorted_entity_death_dict2.values()),width=width,color='green')\n",
    "ax.bar(np.arange(0,len(list(sorted_entity_death_dict2.keys())))+width,ICU_entitybirth_fill_ins2,width=width,color='blue')\n",
    "ax.legend(('Death Rates','ICU Rates'))\n",
    "plt.xticks(ticks=np.arange(0,len(list(sorted_entity_death_dict2.keys()))),labels=list(sorted_entity_death_dict2.keys()))\n",
    "plt.title('Rates by Entity of Birth')\n",
    "plt.xlabel('Entity')\n",
    "plt.ylabel('Rate')\n",
    "#plt.savefig('EDA/value_state.png',bbox_inches='tight')\n",
    "plt.show()"
   ]
  },
  {
   "cell_type": "code",
   "execution_count": 40,
   "metadata": {},
   "outputs": [],
   "source": [
    "#This entity_groupings2 dictionary will contain the mapping from entity to supergroup for entity of birth\n",
    "#I picked 0.075 as the first cutoff because it seems like the rough cutoff for the lowest third of the data\n",
    "#I picked 0.11 as the second cutof because it seems like the rought cutoff for the highest thrid of the data\n",
    "entity_groupings2 = {}\n",
    "for key in list(sorted_entity_death_dict2.keys()):\n",
    "    if sorted_entity_death_dict2[key] < 0.075:\n",
    "        entity_groupings2[int(key)] = 1\n",
    "    elif 0.075 <= sorted_entity_death_dict2[key] <=0.11:\n",
    "        entity_groupings2[int(key)] = 2\n",
    "    else:\n",
    "        entity_groupings2[int(key)] = 3"
   ]
  },
  {
   "cell_type": "code",
   "execution_count": 41,
   "metadata": {},
   "outputs": [
    {
     "name": "stdout",
     "output_type": "stream",
     "text": [
      "Entity of Birth\n"
     ]
    }
   ],
   "source": [
    "#now to map these definitions to the dataframe\n",
    "entity_variables = ['Entity of Birth']\n",
    "for var in entity_variables:\n",
    "    print(var)\n",
    "    new_column = []\n",
    "    for i in range(len(covid_data[var])):\n",
    "        current_entity = covid_data[var][i]\n",
    "        if current_entity not in exclusion_values:\n",
    "            new_column.append(entity_groupings2[current_entity])\n",
    "        else:\n",
    "            #I need to make it a 99 because otherwise np.nan will pop up lots of times in the np.unique when doing encoding.\n",
    "            #Having a np.nan as 99 will be easier later than having it as either 97,98,or 99.\n",
    "            new_column.append(99)\n",
    "    covid_data[var+\" Grouped\"] = new_column"
   ]
  },
  {
   "cell_type": "code",
   "execution_count": 42,
   "metadata": {},
   "outputs": [
    {
     "name": "stdout",
     "output_type": "stream",
     "text": [
      "Entity of Birth\n"
     ]
    }
   ],
   "source": [
    "#now I need to encode these new grouped entity features and add them to the dataframe\n",
    "print('Entity of Birth')\n",
    "entity_of_birth_encoding = utils.encodeQualitative(covid_data['Entity of Birth Grouped'],'Birth',[99])\n",
    "covid_data = pd.concat([covid_data,entity_of_birth_encoding],axis=1)"
   ]
  },
  {
   "cell_type": "code",
   "execution_count": 43,
   "metadata": {},
   "outputs": [],
   "source": [
    "del new_column\n",
    "del ICU_entity_dict2 \n",
    "del sorted_entity_death_dict2\n",
    "del ICU_entitybirth_fill_ins2\n",
    "del entity_of_birth_encoding"
   ]
  },
  {
   "cell_type": "code",
   "execution_count": 44,
   "metadata": {},
   "outputs": [],
   "source": [
    "#Also, now that the data cleaning is finished, the only observations left are those with \"Prior Nationality\" of Mexico, \n",
    "#giving this feature no variation so I am going to delete this (this might explain why there were all the N/A's, because\n",
    "#since the patient was coming from another country, their information wasn't available to Mexico).\n",
    "del covid_data['Prior Nationality']"
   ]
  },
  {
   "cell_type": "code",
   "execution_count": 45,
   "metadata": {},
   "outputs": [],
   "source": [
    "#there are a few left over features that won't be necessary for analysis later on in the project, such as record ID and \n",
    "#submission date. Therefore, I will delete them before writing the cleaned data to a csv file\n",
    "variables_to_delete = ['Update Date','Record ID','Admission Date','Sympton Onset','Date of Death']\n",
    "for var in variables_to_delete:\n",
    "    del covid_data[var]"
   ]
  },
  {
   "cell_type": "markdown",
   "metadata": {},
   "source": [
    "### Writing the Final Cleaned Data to a CSV File"
   ]
  },
  {
   "cell_type": "code",
   "execution_count": 46,
   "metadata": {},
   "outputs": [],
   "source": [
    "covid_data.to_csv('Data/CleanedCovidData10-12.csv')"
   ]
  },
  {
   "cell_type": "markdown",
   "metadata": {},
   "source": [
    "### Creating an updated dictionary of value mappings for the cleaned data"
   ]
  },
  {
   "cell_type": "code",
   "execution_count": 47,
   "metadata": {},
   "outputs": [],
   "source": [
    "clean_entity_dict = dict(zip(entity_numbers[:len(entity_numbers)-3],entity_names[:len(entity_names)-3]))\n",
    "clean_nationality_dict = dict(zip([1,2],['Mexican','Foreign']))\n",
    "clean_origin_dict = dict(zip([1,2],['Usmer','Not Usmer']))\n",
    "clean_yes_no_dict = dict(zip([0,1],['No','Yes']))"
   ]
  },
  {
   "cell_type": "code",
   "execution_count": 48,
   "metadata": {},
   "outputs": [],
   "source": [
    "clean_value_mapping_dict={\n",
    "    'Update Date':{},\n",
    "    'Record ID':{},\n",
    "    'Origin':clean_origin_dict,\n",
    "    'Sector':dict(zip([1,2,3,4,5,6,7,8,9,10,11,12,13],['Red Cross','DIF','State','IMSS','IMSS-Wellness','ISSSTE','Municipal','PEMEX','Private','SEDENA','SEMAR','SSA','Academic'])),\n",
    "    'Entity Location':clean_entity_dict,\n",
    "    'Sex':dict(zip([1,2],['Female','Male'])),\n",
    "    'Entity of Birth':clean_entity_dict,\n",
    "    'Entity of Residence':clean_entity_dict,\n",
    "    'Type of Care':dict(zip([1,2],['Ambulatory','Hospitalized'])),\n",
    "    'Admission Date':{},\n",
    "    'Sympton Onset':{},\n",
    "    'Date of Death':{},\n",
    "    'Intubation Required':clean_yes_no_dict,\n",
    "    'Pneumonia':clean_yes_no_dict,\n",
    "    'Age':{},\n",
    "    'Nationality':clean_nationality_dict,\n",
    "    'Pregnant':clean_yes_no_dict,\n",
    "    'Speak Indigenous':clean_yes_no_dict,\n",
    "    'Diabetes':clean_yes_no_dict,\n",
    "    'COPD Diagnosis':clean_yes_no_dict,\n",
    "    'Asthma':clean_yes_no_dict,\n",
    "    'Immunosuppression':clean_yes_no_dict,\n",
    "    'Hypertension':clean_yes_no_dict,\n",
    "    'Other Diseases':clean_yes_no_dict,\n",
    "    'Cardiovascular Disease':clean_yes_no_dict,\n",
    "    'Obesity':clean_yes_no_dict,\n",
    "    'Kidney Failure':clean_yes_no_dict,\n",
    "    'Smoker':clean_yes_no_dict,\n",
    "    'Contact':clean_yes_no_dict,\n",
    "    'Test Result':dict(zip([1],['Positive'])),\n",
    "    'Migrant':clean_yes_no_dict,\n",
    "    'Prior Nationality':{},\n",
    "    'Prior Origin':{},\n",
    "    'Intensive Care Needed':clean_yes_no_dict,\n",
    "    'Entity Location Grouped':dict(zip([1,2,3],['Group 1','Group 2','Group 3'])),\n",
    "    'Entity of Birth Grouped':dict(zip([1,2,3],['Group 1','Group 2','Group 3'])),\n",
    "    'Entity Location Mapping':entity_groupings1,\n",
    "    'Entity of Residence Mapping':entity_groupings1,\n",
    "    'Entity of Birth Mapping':entity_groupings2\n",
    "}"
   ]
  },
  {
   "cell_type": "code",
   "execution_count": 49,
   "metadata": {},
   "outputs": [],
   "source": [
    "with open('Data/data_mapping_clean_data.json', 'w') as json_file:\n",
    "    json.dump(clean_value_mapping_dict, json_file)"
   ]
  },
  {
   "cell_type": "code",
   "execution_count": null,
   "metadata": {},
   "outputs": [],
   "source": []
  }
 ],
 "metadata": {
  "kernelspec": {
   "display_name": "Python 3",
   "language": "python",
   "name": "python3"
  },
  "language_info": {
   "codemirror_mode": {
    "name": "ipython",
    "version": 3
   },
   "file_extension": ".py",
   "mimetype": "text/x-python",
   "name": "python",
   "nbconvert_exporter": "python",
   "pygments_lexer": "ipython3",
   "version": "3.7.1"
  }
 },
 "nbformat": 4,
 "nbformat_minor": 4
}
