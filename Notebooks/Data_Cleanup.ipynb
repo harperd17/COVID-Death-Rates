{
 "cells": [
  {
   "cell_type": "markdown",
   "metadata": {},
   "source": [
    "# Data Cleaning Notebook"
   ]
  },
  {
   "cell_type": "markdown",
   "metadata": {},
   "source": [
    "This data set came from a Mexican Government [website](https://www.gob.mx/salud/documentos/datos-abiertos-152127). I found a link to this dataset in a [kaggle](https://www.kaggle.com/tanmoyx/covid19-patient-precondition-dataset) project that somebody has done. I thought that finding COVID data would be easier than this, but it turns out that HIPPA laws do not allow data on the individual patient level to be made available to the public even if their names are left out. Therefore, only summary level data sets (like by county, or by age group) are able to be viewed by the public. This data set from the Mexican Government is at the individual patient level and doesn't provide any patient identification information."
   ]
  },
  {
   "cell_type": "code",
   "execution_count": 1,
   "metadata": {},
   "outputs": [],
   "source": [
    "import pandas as pd\n",
    "import json\n",
    "import numpy as np\n",
    "import matplotlib.pyplot as plt"
   ]
  },
  {
   "cell_type": "code",
   "execution_count": 2,
   "metadata": {},
   "outputs": [],
   "source": [
    "#cd .."
   ]
  },
  {
   "cell_type": "code",
   "execution_count": 3,
   "metadata": {},
   "outputs": [],
   "source": [
    "#import the data set\n",
    "covid_data = pd.read_csv('Data/201001COVID19MEXICO.csv')"
   ]
  },
  {
   "cell_type": "markdown",
   "metadata": {},
   "source": [
    "The original data set has 1,048,575 observations and 35 features. Also the column names are all in Spanish."
   ]
  },
  {
   "cell_type": "markdown",
   "metadata": {},
   "source": [
    "# Spanish to English Translations"
   ]
  },
  {
   "cell_type": "markdown",
   "metadata": {},
   "source": [
    "The kaggle project author has done translations of the feature descriptions so I will first create a dictionary containing all column names with the key being the Spanish, and the value being the English translation. Then I am going to change the column names to the English translations."
   ]
  },
  {
   "cell_type": "code",
   "execution_count": 4,
   "metadata": {},
   "outputs": [],
   "source": [
    "translation_dict = {\n",
    "    'FECHA_ACTUALIZACION': 'Update Date',\n",
    "    'ID_REGISTRO': 'Record ID',\n",
    "    'ORIGEN':'Origin',\n",
    "    'SECTOR': 'Sector',\n",
    "    'ENTIDAD_UM':'Entity Location',\n",
    "    'SEXO':'Sex',\n",
    "    'ENTIDAD_NAC':'Entity of Birth',\n",
    "    'ENTIDAD_RES':'Entity of Residence',\n",
    "    'MUNICIPIO_RES':'Residence Municipality',\n",
    "    'TIPO_PACIENTE':'Type of Care',\n",
    "    'FECHA_INGRESO':'Admission Date',\n",
    "    'FECHA_SINTOMAS':'Sympton Onset',\n",
    "    'FECHA_DEF':'Date of Death',\n",
    "    'INTUBADO':'Intubation Required',\n",
    "    'NEUMONIA':'Pneumonia',\n",
    "    'EDAD':'Age',\n",
    "    'NACIONALIDAD':'Nationality',\n",
    "    'EMBARAZO':'Pregnant',\n",
    "    'HABLA_LENGUA_INDIG':'Speak Indigenous',\n",
    "    'DIABETES':'Diabetes',\n",
    "    'EPOC':'COPD Diagnosis',\n",
    "    'ASMA':'Asthma',\n",
    "    'INMUSUPR':'Immunosuppression',\n",
    "    'HIPERTENSION':'Hypertension',\n",
    "    'OTRA_COM':'Other Diseases',\n",
    "    'CARDIOVASCULAR':'Cardiovascular Disease',\n",
    "    'OBESIDAD':'Obesity',\n",
    "    'RENAL_CRONICA':'Kidney Failure',\n",
    "    'TABAQUISMO':'Smoker',\n",
    "    'OTRO_CASO':'Contact',\n",
    "    'RESULTADO':'Test Result',\n",
    "    'MIGRANTE':'Migrant',\n",
    "    'PAIS_NACIONALIDAD':'Prior Nationality',\n",
    "    'PAIS_ORIGEN':'Prior Origin',\n",
    "    'UCI':'Intensive Care Needed'\n",
    "}"
   ]
  },
  {
   "cell_type": "code",
   "execution_count": 5,
   "metadata": {},
   "outputs": [],
   "source": [
    "#now I'm going to change the names to be in English using the dictionary above\n",
    "english_names = [translation_dict[x] for x in covid_data.columns]\n",
    "covid_data.columns = english_names"
   ]
  },
  {
   "cell_type": "markdown",
   "metadata": {},
   "source": [
    "# Cleaning the Data"
   ]
  },
  {
   "cell_type": "markdown",
   "metadata": {},
   "source": [
    "First, I am only interested in observations that actually tested positive for Covid19, so I will drop all rows where 'Test Result' is 2 (Negative) or 3 (Pending)."
   ]
  },
  {
   "cell_type": "code",
   "execution_count": 6,
   "metadata": {},
   "outputs": [],
   "source": [
    "indeces_to_delete = []\n",
    "for i in range(len(covid_data['Test Result'])):\n",
    "    if covid_data['Test Result'][i] == 3:\n",
    "        indeces_to_delete.append(i)\n",
    "    elif covid_data['Test Result'][i] == 2:\n",
    "        indeces_to_delete.append(i)\n",
    "#now to drop the rows that didn't test positive for Covid, and then reset the index\n",
    "covid_data = covid_data.drop(indeces_to_delete)\n",
    "covid_data = covid_data.reset_index(drop=True)"
   ]
  },
  {
   "cell_type": "markdown",
   "metadata": {},
   "source": [
    "I found that the mapping provided with the data set does not completely identify all combinations of municpalities within entity. Because of this, as well as there being over 2,000 municipalities, I have decided to get rid of this feature. I am confident that whatever information is lost from this deletion will be replaced from the 'Entity of Residence' feature which shows which state the patient lives in."
   ]
  },
  {
   "cell_type": "code",
   "execution_count": 7,
   "metadata": {},
   "outputs": [],
   "source": [
    "del covid_data['Residence Municipality']"
   ]
  },
  {
   "cell_type": "markdown",
   "metadata": {},
   "source": [
    "At this point, there are ALOT of columns. I've gone through these columns and evaluated the quality of the data in them. By this, I mean I looked at how complete each column is in terms of how many N/A values are present.<br>\n",
    "a. \"Prior Origin\" and \"Migrant\" features have over 700,000 N/A values each. After step 1 above, there are only 703,973 observations. Since 700,000 is over 90% of the observations, these two columns will be delete. <br>\n",
    "b. \"Contact\" feature has over 1/7 of it's observations being N/A. This feature seems more helpful for a tracing project, and whether or not the person had come in contact with a COVID patient doesn't change the fact they have COVID. This feature will be deleted too. <br>\n",
    "c. \"Speak Indegenous\" feature has over 22,000 N/A values. Also, this feature seems pretty useless because a virus doesn't care what language you speak. This feature will be deleted too.<br>"
   ]
  },
  {
   "cell_type": "code",
   "execution_count": 8,
   "metadata": {},
   "outputs": [],
   "source": [
    "del covid_data['Migrant']\n",
    "del covid_data['Prior Origin']\n",
    "del covid_data['Contact']\n",
    "del covid_data['Speak Indigenous']"
   ]
  },
  {
   "cell_type": "markdown",
   "metadata": {},
   "source": [
    "Then there are some more complicated features: <br>\n",
    "\"Entity of Birth\", \"Diabetes\", \"COPD Diagnosis\", \"Asthma\", \"Immunosuppression\", \"Hypertension\", \"Other Diseases\", \"Cardiovascular Disease\", \"Obesity\", \"Kidney Failure\", and \"Smoker\" features all have roughly 1,900-2,100 N/A values each. After finding out what the overlap is, there is a total of 7,185 rows where atleast one of the features are N/A. This is less than 1% of the total number of observations. Therefore, I think it should be ok to simply delete the observations where one or more of these features has N/A. Also, when considerig this, I saw that 6,008 of the observations impacted by this deletion are patient that didn't die. This shows that 83.6% of the patients deleted here didn't die. When looking at the data as a whole, 89.4% of the observations didn't die. Since 83.6% is relatively close to 89.4%, I don't think that deleting these 7,185 rows is deleting observations that offer something special to the data. Therefore, I will delete these occurences. <br>"
   ]
  },
  {
   "cell_type": "code",
   "execution_count": 9,
   "metadata": {},
   "outputs": [],
   "source": [
    "vars_of_interest = [\"Entity of Birth\", \"Diabetes\", \"COPD Diagnosis\", \"Asthma\", \"Immunosuppression\", \"Hypertension\", \n",
    "                    \"Other Diseases\", \"Cardiovascular Disease\", \"Obesity\", \"Kidney Failure\", \"Smoker\"]\n",
    "row_deletions = []\n",
    "exclusion_values = [97,98,99]\n",
    "for i in range(len(covid_data['Record ID'])):\n",
    "    delete_row = False\n",
    "    for var in vars_of_interest:\n",
    "        if covid_data[var][i] in exclusion_values:\n",
    "            delete_row = True\n",
    "    if delete_row:\n",
    "        row_deletions.append(i)"
   ]
  },
  {
   "cell_type": "code",
   "execution_count": 10,
   "metadata": {},
   "outputs": [],
   "source": [
    "covid_data = covid_data.drop(row_deletions)\n",
    "covid_data = covid_data.reset_index(drop=True)"
   ]
  },
  {
   "cell_type": "markdown",
   "metadata": {},
   "source": [
    "After performing the above actions, there are 7 N/A values in the \"Pneumonia\" feature. 7 observations is incredibly small for this data set, so I will delete these observations."
   ]
  },
  {
   "cell_type": "code",
   "execution_count": 11,
   "metadata": {},
   "outputs": [],
   "source": [
    "pneumonia_delete_rows = list(covid_data[covid_data['Pneumonia']==99].index)\n",
    "\n",
    "covid_data = covid_data.drop(pneumonia_delete_rows)\n",
    "covid_data = covid_data.reset_index(drop=True)"
   ]
  },
  {
   "cell_type": "markdown",
   "metadata": {},
   "source": [
    "\"Pregnant\" feature has 368,300 N/A values. Many of these are from patients being Male, which makes sense because men can't get pregnant. For these 365,860 observations that are Male, I will change the Pregnant feature to equal 2. For the remaining 2,440 N/A values, I will assign a 2 (for not pregnant) since out of the 335,673 women (not including the N/As), only 5,201 are pregnant. This means that for each N/A value, there is only a 1.55% chance that observation is pregnant. My approach is a \"Majority takes all\" approach of solving this N/A problem."
   ]
  },
  {
   "cell_type": "code",
   "execution_count": 12,
   "metadata": {},
   "outputs": [],
   "source": [
    "new_pregnant_column = []\n",
    "for i in range(len(covid_data['Record ID'])):\n",
    "    if covid_data['Pregnant'][i] in [97,98]:\n",
    "        new_pregnant_column.append(2)\n",
    "    else:\n",
    "        new_pregnant_column.append(covid_data['Pregnant'][i])\n",
    "covid_data['Pregnant'] = new_pregnant_column"
   ]
  },
  {
   "cell_type": "markdown",
   "metadata": {},
   "source": [
    "Since whether or not someone needed intubation or intensive care seems more like potential target variables than risk factors, and the intended purpose is for assessing initial risk, I will delete the 'Intensive Care Needed' and 'Intubation Required' features."
   ]
  },
  {
   "cell_type": "code",
   "execution_count": 13,
   "metadata": {},
   "outputs": [],
   "source": [
    "del covid_data['Intensive Care Needed']\n",
    "del covid_data['Intubation Required']"
   ]
  },
  {
   "cell_type": "markdown",
   "metadata": {},
   "source": [
    "Whether or not a person died can be gathered from the 'Date of Death' variable. If the value is a date, then unfortunately that person died. However, if the value is '9999-99-99', then the person did not die. With this information, I'm going to create a binary variable called 'Died' which shows whether a patient died (1) or not (0). While I am looping through the data to create this new variable, I will overwrite the 'Date of Death' variable so that '9999-99-99' is recorded as np.nan."
   ]
  },
  {
   "cell_type": "code",
   "execution_count": 14,
   "metadata": {},
   "outputs": [],
   "source": [
    "died = []\n",
    "death_date = []\n",
    "for i in range(len(covid_data['Date of Death'])):\n",
    "    if str(covid_data['Date of Death'][i]) == '9999-99-99':\n",
    "        died.append(0)\n",
    "        death_date.append(np.nan)\n",
    "    else:\n",
    "        died.append(1)\n",
    "        death_date.append(covid_data['Date of Death'][i])\n",
    "covid_data['Died'] = died\n",
    "covid_data['Date of Death'] = death_date"
   ]
  },
  {
   "cell_type": "code",
   "execution_count": 15,
   "metadata": {},
   "outputs": [],
   "source": [
    "del died\n",
    "del death_date"
   ]
  },
  {
   "cell_type": "markdown",
   "metadata": {},
   "source": [
    "Now that missing values are taken care of, I would like to look into a location based feature and do groupings. The one that pops out to me the most is \"Entity of Residence\" because this is the most current location for that person. Birth entity doesn't seem to be recent enough. I will also delete the other location based features besides entity of residence."
   ]
  },
  {
   "cell_type": "code",
   "execution_count": 16,
   "metadata": {},
   "outputs": [],
   "source": [
    "del covid_data['Entity Location']\n",
    "del covid_data['Entity of Birth']"
   ]
  },
  {
   "cell_type": "code",
   "execution_count": 17,
   "metadata": {},
   "outputs": [],
   "source": [
    "#I will find the unique values for an entity and then visualize how the death rate\n",
    "#vary across the entities in order to define the super groups.\n",
    "#First I want to create a dictionary of the death rate\n",
    "unique_entities = np.unique(covid_data['Entity of Residence'])\n",
    "death_entity_dict = {key: None for key in unique_entities}\n",
    "\n",
    "for entity in unique_entities:\n",
    "    entity_subset = covid_data[covid_data['Entity of Residence']==entity]\n",
    "    death_entity_dict[entity] = sum(entity_subset['Died'])/max(1,len(entity_subset['Died']))"
   ]
  },
  {
   "cell_type": "code",
   "execution_count": 18,
   "metadata": {},
   "outputs": [],
   "source": [
    "#I want to sort these dictionaries in terms of their rates to make it easier to create groupings from the bar chart\n",
    "sorted_entity_death_dict = {k: v for k, v in sorted(death_entity_dict.items(), key=lambda item: item[1])}"
   ]
  },
  {
   "cell_type": "code",
   "execution_count": 19,
   "metadata": {},
   "outputs": [
    {
     "data": {
      "image/png": "[encoded data removed]",
      "text/plain": [
       "<Figure size 432x288 with 1 Axes>"
      ]
     },
     "metadata": {
      "needs_background": "light"
     },
     "output_type": "display_data"
    }
   ],
   "source": [
    "fig = plt.figure()\n",
    "width = 0.8\n",
    "ax = fig.add_axes([0,0,1,1])\n",
    "ax.bar(np.arange(0,len(list(sorted_entity_death_dict.keys()))),list(sorted_entity_death_dict.values()),width=width,color='green')\n",
    "ax.legend(('Death Rates'))\n",
    "plt.xticks(ticks=np.arange(0,len(list(sorted_entity_death_dict.keys()))),labels=list(sorted_entity_death_dict.keys()))\n",
    "plt.title('Death Rates by Entity of Residence')\n",
    "plt.xlabel('Entity')\n",
    "plt.ylabel('Death Rate')\n",
    "#plt.savefig('Residence_Entity_Death_Rates.png',bbox_inches='tight')\n",
    "plt.show()"
   ]
  },
  {
   "cell_type": "code",
   "execution_count": 20,
   "metadata": {},
   "outputs": [],
   "source": [
    "#This entity_groupings dictionary will contain the mapping from entity to supergroup for entity of residence\n",
    "#I picked 0.09 as the first cutoff because that roughly looks like the cutoff for the lowest third of the data\n",
    "#I picked 0.13 as the second cutoff because that seems like the rough cutoff for the highest third of the data\n",
    "entity_groupings = {}\n",
    "for key in list(sorted_entity_death_dict.keys()):\n",
    "    if sorted_entity_death_dict[key] < 0.09:\n",
    "        entity_groupings[int(key)] = 1\n",
    "    elif 0.09 <= sorted_entity_death_dict[key] <=0.13:\n",
    "        entity_groupings[int(key)] = 2\n",
    "    else:\n",
    "        entity_groupings[int(key)] = 3"
   ]
  },
  {
   "cell_type": "code",
   "execution_count": 21,
   "metadata": {},
   "outputs": [],
   "source": [
    "#now to map these definitions to the dataframe\n",
    "new_column = []\n",
    "for i in range(len(covid_data['Entity of Residence'])):\n",
    "    current_entity = covid_data['Entity of Residence'][i]\n",
    "    if current_entity not in exclusion_values:\n",
    "        new_column.append(entity_groupings[current_entity])\n",
    "    else:\n",
    "        #I need to make it a 99 because otherwise np.nan will pop up lots of times in the np.unique when doing encoding.\n",
    "        #Having a np.nan as 99 will be easier later than having it as either 97,98,or 99.\n",
    "        new_column.append(99)\n",
    "covid_data[\"Entity of Residence Grouped\"] = new_column"
   ]
  },
  {
   "cell_type": "code",
   "execution_count": 22,
   "metadata": {},
   "outputs": [],
   "source": [
    "#now that the grouping is done, I can get rid of the old pregrouped feature. I can also get rid of the variables set up during\n",
    "#the time to free up memory space\n",
    "del covid_data['Entity of Residence']\n",
    "del death_entity_dict\n",
    "del entity_subset\n",
    "del sorted_entity_death_dict\n",
    "del new_column"
   ]
  },
  {
   "cell_type": "code",
   "execution_count": 23,
   "metadata": {},
   "outputs": [],
   "source": [
    "#there are a few left over features not representing risk factors that won't be necessary for analysis later on in the \n",
    "#project. Therefore, I will delete them before encoding\n",
    "variables_to_delete = ['Update Date','Record ID','Origin','Sector','Type of Care','Admission Date','Sympton Onset',\n",
    "                       'Date of Death','Nationality','Test Result','Prior Nationality']\n",
    "for var in variables_to_delete:\n",
    "    del covid_data[var]"
   ]
  },
  {
   "cell_type": "code",
   "execution_count": 24,
   "metadata": {},
   "outputs": [],
   "source": [
    "#Lastly, for all the features that are types of conditions, the value ranges of 1-2 need to change to 0-1. This can be done\n",
    "#by simply changing all occurences of 2 to 0 for these variables\n",
    "yes_no_vars = ['Pneumonia','Pregnant','Diabetes','COPD Diagnosis','Asthma','Immunosuppression','Hypertension','Other Diseases',\n",
    "              'Cardiovascular Disease','Obesity','Kidney Failure','Smoker','Died']\n",
    "covid_data[yes_no_vars] = covid_data[yes_no_vars].replace(2,0)"
   ]
  },
  {
   "cell_type": "markdown",
   "metadata": {},
   "source": [
    "### Writing the Final Cleaned Data to a CSV File"
   ]
  },
  {
   "cell_type": "code",
   "execution_count": 25,
   "metadata": {},
   "outputs": [],
   "source": [
    "covid_data.to_csv('Data/CleanedCovidData10-16.csv',index=False)"
   ]
  },
  {
   "cell_type": "markdown",
   "metadata": {},
   "source": [
    "# Value Mapping <br>\n",
    "Most data fields in this data set have numeric representations for non-numeric values."
   ]
  },
  {
   "cell_type": "markdown",
   "metadata": {},
   "source": [
    "Below are dictionaries I have created using the 'Catalogos_0412.csv' file provided with the Covid data."
   ]
  },
  {
   "cell_type": "code",
   "execution_count": 26,
   "metadata": {},
   "outputs": [],
   "source": [
    "#dictionary of yes/no features\n",
    "yes_no_dict = dict(zip([0,1],['No','Yes']))\n",
    "\n",
    "#dictionary of entity names associated with each numeric value in the data\n",
    "entity_numbers = range(1,37,1)\n",
    "entity_names = ['AGUASCALIENTES','BAJA CALIFORNIA','BAJA CALIFORNIA SUR','CAMPECHE','COAHUILA DE ZARAGOZA','COLIMA','CHIAPAS',\n",
    "'CHIHUAHUA','CIUDAD DE MÉXICO','DURANGO','GUANAJUATO','GUERRERO','HIDALGO','JALISCO','MÉXICO','MICHOACÁN DE OCAMPO',\n",
    "'MORELOS','NAYARIT','NUEVO LEÓN','OAXACA','PUEBLA','QUERÉTARO','QUINTANA ROO','SAN LUIS POTOSÍ','SINALOA','SONORA',\n",
    "'TABASCO','TAMAULIPAS','TLAXCALA','VERACRUZ DE IGNACIO DE LA LLAVE','YUCATÁN','ZACATECAS','ESTADOS UNIDOS MEXICANOS']\n",
    "entity_dict = dict(zip(entity_numbers,entity_names))\n",
    "\n",
    "value_mapping_dict={\n",
    "    'Sex':dict(zip([1,2],['Female','Male'])),\n",
    "    'Entity of Residence':entity_dict,\n",
    "    'Entity of Residence Grouped':entity_groupings,\n",
    "    'Pneumonia':yes_no_dict,\n",
    "    'Age':{},\n",
    "    'Pregnant':yes_no_dict,\n",
    "    'Diabetes':yes_no_dict,\n",
    "    'COPD Diagnosis':yes_no_dict,\n",
    "    'Asthma':yes_no_dict,\n",
    "    'Immunosuppression':yes_no_dict,\n",
    "    'Hypertension':yes_no_dict,\n",
    "    'Other Diseases':yes_no_dict,\n",
    "    'Cardiovascular Disease':yes_no_dict,\n",
    "    'Obesity':yes_no_dict,\n",
    "    'Kidney Failure':yes_no_dict,\n",
    "    'Smoker':yes_no_dict,\n",
    "    'Died':yes_no_dict\n",
    "}"
   ]
  },
  {
   "cell_type": "code",
   "execution_count": 27,
   "metadata": {},
   "outputs": [],
   "source": [
    "#now that the mappings are all created, I would like to write them to a json file\n",
    "with open('Data/post_cleaning_data_mapping.json', 'w') as json_file:\n",
    "    json.dump(value_mapping_dict, json_file)"
   ]
  },
  {
   "cell_type": "code",
   "execution_count": null,
   "metadata": {},
   "outputs": [],
   "source": []
  }
 ],
 "metadata": {
  "kernelspec": {
   "display_name": "Python 3",
   "language": "python",
   "name": "python3"
  },
  "language_info": {
   "codemirror_mode": {
    "name": "ipython",
    "version": 3
   },
   "file_extension": ".py",
   "mimetype": "text/x-python",
   "name": "python",
   "nbconvert_exporter": "python",
   "pygments_lexer": "ipython3",
   "version": "3.7.1"
  }
 },
 "nbformat": 4,
 "nbformat_minor": 4
}
