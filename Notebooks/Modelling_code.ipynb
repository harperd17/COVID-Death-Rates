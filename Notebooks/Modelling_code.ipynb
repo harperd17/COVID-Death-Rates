{
 "cells": [
  {
   "cell_type": "code",
   "execution_count": 48,
   "metadata": {},
   "outputs": [],
   "source": [
    "from sklearn.linear_model import LogisticRegression\n",
    "from sklearn import metrics\n",
    "import pandas as pd\n",
    "import matplotlib.pyplot as plt\n",
    "import seaborn as sns\n",
    "import statsmodels.api as sm\n",
    "from sklearn.model_selection import train_test_split\n",
    "from sklearn import tree\n",
    "from sklearn.model_selection import KFold\n",
    "from sklearn.model_selection import cross_val_score\n",
    "import numpy as np"
   ]
  },
  {
   "cell_type": "code",
   "execution_count": 5,
   "metadata": {},
   "outputs": [],
   "source": [
    "from statsmodels.genmod.generalized_linear_model import GLM\n",
    "from statsmodels.genmod import families"
   ]
  },
  {
   "cell_type": "code",
   "execution_count": 26,
   "metadata": {},
   "outputs": [],
   "source": [
    "data = pd.read_csv('Data/CleanedCovidData10-8.csv')"
   ]
  },
  {
   "cell_type": "markdown",
   "metadata": {},
   "source": [
    "There are a few features that should not be included. These are the features that have been encoded into dummy variables. They are still in the data set in order to support visualizations in the EDA file, but are not necessary for any of the machine learning models."
   ]
  },
  {
   "cell_type": "code",
   "execution_count": 28,
   "metadata": {},
   "outputs": [],
   "source": [
    "variables_not_include = ['Entity of Birth Grouped','Entity of Residence Grouped','Entity Location Grouped','Test Result','Date of Death',\n",
    "                        'Sympton Onset','Admission Date','Type of Care','Entity of Birth','Entity of Residence','Entity Location',\n",
    "                        'Sex','Sector','Origin','Record ID','Update Date','Unnamed: 0']\n",
    "for var in variables_not_include:\n",
    "    del data[var]"
   ]
  },
  {
   "cell_type": "markdown",
   "metadata": {},
   "source": [
    "I am creating the training data set here. I am holding out only 5% of the data for testing. I think that 5% will be enough considering the cleaned data contains 696,781 observations. This will allow for 34,839 observations to be used as test data, which seems like plenty."
   ]
  },
  {
   "cell_type": "code",
   "execution_count": 30,
   "metadata": {},
   "outputs": [],
   "source": [
    "X_train, X_test = train_test_split(data, test_size = 0.05,random_state=10082020)"
   ]
  },
  {
   "cell_type": "markdown",
   "metadata": {},
   "source": [
    "Assigning the target variable to y, and the rest of the variables to X."
   ]
  },
  {
   "cell_type": "code",
   "execution_count": 31,
   "metadata": {},
   "outputs": [],
   "source": [
    "p_variables = list(X_train.columns)\n",
    "p_variables.remove('Died')\n",
    "X = X_train[p_variables]\n",
    "y = X_train['Died']"
   ]
  },
  {
   "cell_type": "code",
   "execution_count": 32,
   "metadata": {},
   "outputs": [],
   "source": [
    "def forwardSelection(X,y,model,factor):\n",
    "    \"\"\"This function goes and does forward selection using the X and y arrays passed in as well as the model to fit\n",
    "    the data to. Also takes in which factor to use for model selection. Returns a list containing model from each addition \n",
    "    of next most useful feature.\"\"\"\n",
    "    predictors = list(X.columns)\n",
    "    remaining_predictors = list(X.columns)\n",
    "    factor_values = []\n",
    "    feature_additions = [[]]\n",
    "\n",
    "    for i in range(len(predictors)):\n",
    "        max_factor = -999999999999999\n",
    "        best_feature = \"\"\n",
    "        for feature in remaining_predictors:\n",
    "            features_to_use = list(feature_additions[-1])\n",
    "            features_to_use.append(feature)\n",
    "            model.fit(X[features_to_use],y)\n",
    "            if factor == 'Deviance':\n",
    "                #Deviance is -2* log likelihood estimate for model. Sklearn returns the negative of the log likelihood estimate\n",
    "                #so I would need to multiply by +2. Except since I want to minimize this, but if the wanted comparison is with\n",
    "                #Rate, then we would want to maximize, I will multiply by -2 so that capturing the maximum of the - vaue\n",
    "                #will be the minimum of the + value\n",
    "                f = -2*metrics.log_loss(y, model.predict_proba(X[features_to_use]), normalize=False)\n",
    "            #if the factor to use is Rate, then that means to use classification accuracy score\n",
    "            elif factor == 'Rate':\n",
    "                f = model.score(X[features_to_use],y)\n",
    "            if f > max_factor:\n",
    "                max_factor = f\n",
    "                best_feature = feature\n",
    "                \n",
    "        next_model = list(feature_additions[-1])\n",
    "        next_model.append(best_feature)\n",
    "        feature_additions.append(next_model)\n",
    "        factor_values.append(max_factor)\n",
    "        remaining_predictors.remove(best_feature)\n",
    "        \n",
    "    return feature_additions, factor_values"
   ]
  },
  {
   "cell_type": "code",
   "execution_count": 33,
   "metadata": {},
   "outputs": [],
   "source": [
    "def performValidations(X,y,variable_sets,folds,model):\n",
    "    \"\"\"Function takes in the X and y arrays and also takes in the stepwise models at each step of forward stepwise\n",
    "    selection. Also takes in how many folds to do with K-fold and which model data should be fitted on\"\"\"\n",
    "    cv = KFold(n_splits=folds, random_state=1, shuffle=True)\n",
    "    #loop through each set and perform k-fold cross validation for each  model, then report the average classification rate\n",
    "    mean_accuracies = []\n",
    "    std_accuracies = []\n",
    "    for sett in variable_sets:\n",
    "        scores = cross_val_score(model, X[sett], y, scoring='accuracy', cv=cv, n_jobs=-1)\n",
    "        mean_accuracies.append(scores.mean())\n",
    "        std_accuracies.append(scores.std())\n",
    "    return mean_accuracies, std_accuracies"
   ]
  },
  {
   "cell_type": "markdown",
   "metadata": {},
   "source": [
    "# Logistic Regression"
   ]
  },
  {
   "cell_type": "markdown",
   "metadata": {},
   "source": [
    "## Performing Forward Stepwise Selection of Variables"
   ]
  },
  {
   "cell_type": "code",
   "execution_count": 34,
   "metadata": {},
   "outputs": [],
   "source": [
    "log_model = LogisticRegression(penalty = 'none', max_iter= 10000)\n",
    "features, factors = forwardSelection(X,y,log_model,'Deviance')"
   ]
  },
  {
   "cell_type": "markdown",
   "metadata": {},
   "source": [
    "The cell above took multiple hours to run, so below I am writing the output to a csv file so I don't have to run the above cell again."
   ]
  },
  {
   "cell_type": "code",
   "execution_count": 46,
   "metadata": {},
   "outputs": [],
   "source": [
    "output_lines = []\n",
    "for feature in features:\n",
    "    line = \"Features [\"\n",
    "    for item in feature:\n",
    "        line += str(item)\n",
    "        line += \",\"\n",
    "    line += \"]\"\n",
    "    output_lines.append(line)\n",
    "\n",
    "output_df = pd.DataFrame({'features':output_lines[1:],'factors':factors})\n",
    "output_df.to_csv('ForwardSelectionResults.csv')"
   ]
  },
  {
   "cell_type": "markdown",
   "metadata": {},
   "source": [
    "Below is a plot of the Deviance (comparable to MSE or R-squared for Regression problems)"
   ]
  },
  {
   "cell_type": "code",
   "execution_count": 92,
   "metadata": {},
   "outputs": [
    {
     "data": {
      "image/png": "[encoded data removed]",
      "text/plain": [
       "<Figure size 432x288 with 1 Axes>"
      ]
     },
     "metadata": {
      "needs_background": "light"
     },
     "output_type": "display_data"
    }
   ],
   "source": [
    "fwdselection = pd.read_csv('ForwardSelectionResults.csv')\n",
    "#in order to be maximizing this factor in the forward stepwise selection function, I had to make this negative. I am turning it positive again\n",
    "fwd_deviance = -1*fwdselection['factors']\n",
    "num_fwd_features = fwdselection['features']\n",
    "\n",
    "plt.plot(np.arange(1,len(num_fwd_features)),fwd_deviance[1:])\n",
    "plt.title(\"Logistic Regression Deviance by Number of Features\")\n",
    "plt.xlabel(\"Number of Features in Model\")\n",
    "plt.ylabel(\"Deviance\")\n",
    "#plt.savefig(\"Forward Selection Deviance.png\")"
   ]
  },
  {
   "cell_type": "markdown",
   "metadata": {},
   "source": [
    "This shows me that after 10 factors are included, the estimated test error doesn't really get any better. The model with 10 features is shown below."
   ]
  },
  {
   "cell_type": "code",
   "execution_count": 94,
   "metadata": {},
   "outputs": [
    {
     "data": {
      "text/plain": [
       "'Features [Care_1,Intubation Required,Age,Pneumonia,Sector_4,Kidney Failure,Sex_2,Diabetes,Sector_9,Obesity,]'"
      ]
     },
     "execution_count": 94,
     "metadata": {},
     "output_type": "execute_result"
    }
   ],
   "source": [
    "num_fwd_features[9]"
   ]
  },
  {
   "cell_type": "markdown",
   "metadata": {},
   "source": [
    "Below shows performing 10-fold cross validation for each model and the resulting estimated test accuracy for each model. This agrees with the deviance plot above, showing the accuracy does not increase after the model has 10 features."
   ]
  },
  {
   "cell_type": "code",
   "execution_count": 52,
   "metadata": {},
   "outputs": [],
   "source": [
    "means, stds = performValidations(X,y,features,10,log_model)"
   ]
  },
  {
   "cell_type": "code",
   "execution_count": 104,
   "metadata": {},
   "outputs": [
    {
     "data": {
      "image/png": "[encoded data removed]",
      "text/plain": [
       "<Figure size 432x288 with 1 Axes>"
      ]
     },
     "metadata": {
      "needs_background": "light"
     },
     "output_type": "display_data"
    }
   ],
   "source": [
    "plt.plot(np.arange(1,45,1),means)\n",
    "plt.title(\"Logistic Regression Classification Accuracy by Number of Features \\n in Forward Stepwise Selection\")\n",
    "plt.xlabel(\"Number of Features\")\n",
    "plt.ylabel(\"Classification Accuracy\")\n",
    "#plt.savefig('Forward Selection Accuracy.png')"
   ]
  },
  {
   "cell_type": "markdown",
   "metadata": {},
   "source": [
    "## Performing Backward Stepwise Selection of Variables"
   ]
  },
  {
   "cell_type": "code",
   "execution_count": 51,
   "metadata": {},
   "outputs": [
    {
     "name": "stdout",
     "output_type": "stream",
     "text": [
      "[ True  True False  True False False False False  True False False False\n",
      " False False False False  True False  True  True False  True False  True\n",
      " False False False False False False  True False  True  True False False\n",
      " False False False False False False False]\n",
      "[ 1  1 28  1  7  2 19 24  1 22 30 27  4 26 17 31  1 25  1  1 29  1 15  1\n",
      " 16  3 32 21  5  6  1 11  1  1  8  9 10 23 18 20 13 12 14]\n"
     ]
    }
   ],
   "source": [
    "from sklearn.feature_selection import RFE\n",
    "selector = RFE(log_model,n_features_to_select=12,step=1)\n",
    "selector = selector.fit(X,y)"
   ]
  },
  {
   "cell_type": "markdown",
   "metadata": {},
   "source": [
    "This above cell took quite some time to run too, so I am writing the output to a file too so I don't need to run it again."
   ]
  },
  {
   "cell_type": "code",
   "execution_count": 66,
   "metadata": {},
   "outputs": [],
   "source": [
    "backward_selection_df = pd.DataFrame({\"Feature\":list(X.columns),\"Selected\":list(selector.support_),\"Ranking\":list(selector.ranking_)})\n",
    "backward_selection_df.to_csv('BackwardSelectionoutput.csv')"
   ]
  },
  {
   "cell_type": "markdown",
   "metadata": {},
   "source": [
    "The below cell performs the backward selection, but only one step at a time instead of doing all the steps in one line of code. This cell captures the models at each step."
   ]
  },
  {
   "cell_type": "code",
   "execution_count": 72,
   "metadata": {},
   "outputs": [],
   "source": [
    "bwdselection = pd.read_csv('BackwardSelectionoutput.csv')\n",
    "bwd_selected = bwdselection['Selected']\n",
    "\n",
    "variables = list(X.columns[bwd_selected])\n",
    "models = [[]]\n",
    "for i in range(12):\n",
    "    models.append(variables)\n",
    "    selector2 = RFE(log_model,n_features_to_select=12-i,step=1)\n",
    "    selector2 = selector2.fit(X[variables],y)\n",
    "    variables = list(pd.Series(variables)[selector2.support_])"
   ]
  },
  {
   "cell_type": "markdown",
   "metadata": {},
   "source": [
    "The cell below uses the models created along each step of backward selection and does 10-Fold cross validation and records the mean accuracy for each model over the 10-folds."
   ]
  },
  {
   "cell_type": "code",
   "execution_count": 74,
   "metadata": {},
   "outputs": [],
   "source": [
    "back_means, back_stds = performValidations(X,y,models,10,log_model)"
   ]
  },
  {
   "cell_type": "markdown",
   "metadata": {},
   "source": [
    "Below plots the accuracy of the model as a function of how many features are involved."
   ]
  },
  {
   "cell_type": "code",
   "execution_count": 102,
   "metadata": {},
   "outputs": [
    {
     "data": {
      "image/png": "[encoded data removed]",
      "text/plain": [
       "<Figure size 432x288 with 1 Axes>"
      ]
     },
     "metadata": {
      "needs_background": "light"
     },
     "output_type": "display_data"
    }
   ],
   "source": [
    "x_axis_nums = []\n",
    "for i in range(12):\n",
    "    x_axis_nums.append(12-i)\n",
    "    \n",
    "plt.plot(x_axis_nums,back_means[1:])\n",
    "plt.title(\"Logistic Regression Classification Accuracy by Number of Features \\n in Backward Stepwise Selection\")\n",
    "plt.xlabel(\"Number of Features\")\n",
    "plt.ylabel(\"Classification Accuracy\")\n",
    "#plt.savefig(\"Backward Selection Accuracy.png\")"
   ]
  },
  {
   "cell_type": "markdown",
   "metadata": {},
   "source": [
    "This seems odd that there is a raise in accuracy after dropping 2 features from the model that has 7 features. However, despite this, the maximum classification accuracy occurs when having 10 features. The model that uses 10 features is shown below."
   ]
  },
  {
   "cell_type": "code",
   "execution_count": 98,
   "metadata": {},
   "outputs": [
    {
     "name": "stdout",
     "output_type": "stream",
     "text": [
      "['Intubation Required', 'Pneumonia', 'Pregnant', 'Sector_2', 'Sector_4', 'Sector_7', 'Sector_9', 'Care_1', 'Origin_1', 'Origin_2']\n"
     ]
    }
   ],
   "source": [
    "print(models[4])"
   ]
  },
  {
   "cell_type": "markdown",
   "metadata": {},
   "source": [
    "## Performing L2 Regularization"
   ]
  },
  {
   "cell_type": "code",
   "execution_count": 81,
   "metadata": {},
   "outputs": [
    {
     "name": "stderr",
     "output_type": "stream",
     "text": [
      "C:\\Users\\david\\Anaconda3\\lib\\site-packages\\ipykernel_launcher.py:4: SettingWithCopyWarning: \n",
      "A value is trying to be set on a copy of a slice from a DataFrame.\n",
      "Try using .loc[row_indexer,col_indexer] = value instead\n",
      "\n",
      "See the caveats in the documentation: https://pandas.pydata.org/pandas-docs/stable/user_guide/indexing.html#returning-a-view-versus-a-copy\n",
      "  after removing the cwd from sys.path.\n"
     ]
    },
    {
     "name": "stdout",
     "output_type": "stream",
     "text": [
      "-11\n",
      "-9\n",
      "-7\n",
      "-5\n",
      "-3\n",
      "-1\n",
      "1\n",
      "3\n",
      "5\n",
      "7\n",
      "9\n"
     ]
    },
    {
     "name": "stderr",
     "output_type": "stream",
     "text": [
      "C:\\Users\\david\\Anaconda3\\lib\\site-packages\\ipykernel_launcher.py:18: SettingWithCopyWarning: \n",
      "A value is trying to be set on a copy of a slice from a DataFrame.\n",
      "Try using .loc[row_indexer,col_indexer] = value instead\n",
      "\n",
      "See the caveats in the documentation: https://pandas.pydata.org/pandas-docs/stable/user_guide/indexing.html#returning-a-view-versus-a-copy\n"
     ]
    }
   ],
   "source": [
    "#first need to standardize the age feature\n",
    "age_normal = list(X['Age'])\n",
    "age_standardized = list(X['Age']/X['Age'].std())\n",
    "X['Age'] = age_standardized\n",
    "#I want to keep track of the coefficients, mean accuracies and the standard deviations\n",
    "coefficients = []\n",
    "mean_accuracies = []\n",
    "std_accuracies = []\n",
    "#I want to loop through a range of values with a broad step of 2, and if there appears to be a place where I need\n",
    "#a higher granularity I will approach only a small section with the small granularity instead of the whole region\n",
    "for c in range(-11,11,2):\n",
    "    print(c)\n",
    "    log_l2_model = LogisticRegression(penalty = 'l2', max_iter= 10000,C=10**c)\n",
    "    mean, std = performValidations(X,y,[list(X.columns)],5,log_l2_model)\n",
    "    mean_accuracies.append(mean[0])\n",
    "    std_accuracies.append(std[0])\n",
    "    log_l2_model.fit(X,y)\n",
    "    coefficients.append(log_l2_model.coef_)\n",
    "    \n",
    "#set age back to normal\n",
    "X['Age'] = age_normal"
   ]
  },
  {
   "cell_type": "code",
   "execution_count": 105,
   "metadata": {},
   "outputs": [
    {
     "data": {
      "image/png": "[encoded data removed]",
      "text/plain": [
       "<Figure size 432x288 with 1 Axes>"
      ]
     },
     "metadata": {
      "needs_background": "light"
     },
     "output_type": "display_data"
    }
   ],
   "source": [
    "plt.plot(np.arange(-11,11,2),mean_accuracies)\n",
    "plt.title(\"Estimated Test Accuracy by C \\n in L2 Regularization\")\n",
    "plt.xlabel(\"C\")\n",
    "plt.ylabel(\"Classification Accuracy\")\n",
    "#plt.savefig('Classification Accuracy by C')"
   ]
  },
  {
   "cell_type": "markdown",
   "metadata": {},
   "source": [
    "# Building Decision Tree Models"
   ]
  },
  {
   "cell_type": "code",
   "execution_count": null,
   "metadata": {},
   "outputs": [],
   "source": []
  }
 ],
 "metadata": {
  "kernelspec": {
   "display_name": "Python 3",
   "language": "python",
   "name": "python3"
  },
  "language_info": {
   "codemirror_mode": {
    "name": "ipython",
    "version": 3
   },
   "file_extension": ".py",
   "mimetype": "text/x-python",
   "name": "python",
   "nbconvert_exporter": "python",
   "pygments_lexer": "ipython3",
   "version": "3.7.1"
  }
 },
 "nbformat": 4,
 "nbformat_minor": 4
}
